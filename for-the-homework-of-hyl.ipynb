{
 "metadata": {
  "kernelspec": {
   "language": "python",
   "display_name": "Python 3",
   "name": "python3"
  },
  "language_info": {
   "name": "python",
   "version": "3.7.12",
   "mimetype": "text/x-python",
   "codemirror_mode": {
    "name": "ipython",
    "version": 3
   },
   "pygments_lexer": "ipython3",
   "nbconvert_exporter": "python",
   "file_extension": ".py"
  }
 },
 "nbformat_minor": 4,
 "nbformat": 4,
 "cells": [
  {
   "cell_type": "code",
   "source": [
    "import numpy as np # linear algebra\n",
    "import pandas as pd # data processing, CSV file I/O (e.g. pd.read_csv)\n",
    "import matplotlib.pyplot as plt# make imgs\n",
    "import os\n",
    "for dirname, _, filenames in os.walk('/kaggle/input'):\n",
    "    for filename in filenames:\n",
    "        print(os.path.join(dirname, filename))"
   ],
   "metadata": {
    "_uuid": "8f2839f25d086af736a60e9eeb907d3b93b6e0e5",
    "_cell_guid": "b1076dfc-b9ad-4769-8c92-a6c4dae69d19",
    "execution": {
     "iopub.status.busy": "2021-12-11T11:56:05.017143Z",
     "iopub.execute_input": "2021-12-11T11:56:05.017458Z",
     "iopub.status.idle": "2021-12-11T11:56:05.036433Z",
     "shell.execute_reply.started": "2021-12-11T11:56:05.017421Z",
     "shell.execute_reply": "2021-12-11T11:56:05.035735Z"
    },
    "trusted": true
   },
   "execution_count": 3,
   "outputs": []
  },
  {
   "cell_type": "code",
   "source": "excel_name = \"../input/data-for-phone-which-play-the-game/phone-data.xlsx\"\n# !pip install openpyxl \n# 上面那一行是为了为了直接读取 excel，感觉并不好用，故注释\n# data = pd.read_excel(excel_name,sheet_name=[\"install-info\"],)\n# pd.read_excel() 太难用了 ， 读取之后是dict格式，而且dict的key是子表名，dict的value是表的全部内容，无语子哎~QAQ\n\nfile_install_info = \"../input/data-for-phone-which-play-the-game/install_info.csv\"\nfile_register_info = \"../input/data-for-phone-which-play-the-game/register_info.csv\"\n\ninstall_data = pd.read_csv(file_install_info)\nregister_data = pd.read_csv(file_register_info)\nprint(install_data)",
   "metadata": {
    "execution": {
     "iopub.status.busy": "2021-12-11T11:56:22.622250Z",
     "iopub.execute_input": "2021-12-11T11:56:22.622526Z",
     "iopub.status.idle": "2021-12-11T11:56:22.729176Z",
     "shell.execute_reply.started": "2021-12-11T11:56:22.622489Z",
     "shell.execute_reply": "2021-12-11T11:56:22.728158Z"
    },
    "trusted": true
   },
   "execution_count": 5,
   "outputs": []
  },
  {
   "cell_type": "code",
   "source": "phone_brands = install_data[[\"机型\",\"用户唯一ID\"]]\nphone_brands = phone_brands.rename(columns={'机型':'MODEL','用户唯一ID':'User ID'})\nphone_brands[\"BRANDS\"] = phone_brands[\"MODEL\"].str.split(\"-\",expand=True)[0].str.upper() # 感觉还是统一大写好看一点\nphone_brands",
   "metadata": {
    "execution": {
     "iopub.status.busy": "2021-12-11T11:56:25.644169Z",
     "iopub.execute_input": "2021-12-11T11:56:25.644825Z",
     "iopub.status.idle": "2021-12-11T11:56:25.692826Z",
     "shell.execute_reply.started": "2021-12-11T11:56:25.644785Z",
     "shell.execute_reply": "2021-12-11T11:56:25.692266Z"
    },
    "trusted": true
   },
   "execution_count": 6,
   "outputs": []
  },
  {
   "cell_type": "code",
   "source": "ans = phone_brands.groupby( [ \"BRANDS\"] ).size().to_frame(name = 'COUNT').reset_index()\nans",
   "metadata": {
    "execution": {
     "iopub.status.busy": "2021-12-11T11:56:30.819713Z",
     "iopub.execute_input": "2021-12-11T11:56:30.820034Z",
     "iopub.status.idle": "2021-12-11T11:56:30.835175Z",
     "shell.execute_reply.started": "2021-12-11T11:56:30.819988Z",
     "shell.execute_reply": "2021-12-11T11:56:30.834300Z"
    },
    "trusted": true
   },
   "execution_count": 7,
   "outputs": []
  },
  {
   "cell_type": "code",
   "source": "ans.sort_values(by=\"COUNT\",ascending=False,inplace=True)\nans",
   "metadata": {
    "execution": {
     "iopub.status.busy": "2021-12-11T11:56:32.225820Z",
     "iopub.execute_input": "2021-12-11T11:56:32.226337Z",
     "iopub.status.idle": "2021-12-11T11:56:32.242940Z",
     "shell.execute_reply.started": "2021-12-11T11:56:32.226291Z",
     "shell.execute_reply": "2021-12-11T11:56:32.242299Z"
    },
    "trusted": true
   },
   "execution_count": 8,
   "outputs": []
  },
  {
   "cell_type": "code",
   "source": "ans.describe()",
   "metadata": {
    "execution": {
     "iopub.status.busy": "2021-12-11T11:56:33.541737Z",
     "iopub.execute_input": "2021-12-11T11:56:33.542013Z",
     "iopub.status.idle": "2021-12-11T11:56:33.564041Z",
     "shell.execute_reply.started": "2021-12-11T11:56:33.541985Z",
     "shell.execute_reply": "2021-12-11T11:56:33.563117Z"
    },
    "trusted": true
   },
   "execution_count": 9,
   "outputs": []
  },
  {
   "cell_type": "code",
   "source": "num=0\nfor count in ans['COUNT']:\n    if count == 1:\n        num = num +1\nnum",
   "metadata": {
    "execution": {
     "iopub.status.busy": "2021-12-11T11:56:34.684559Z",
     "iopub.execute_input": "2021-12-11T11:56:34.684875Z",
     "iopub.status.idle": "2021-12-11T11:56:34.691881Z",
     "shell.execute_reply.started": "2021-12-11T11:56:34.684839Z",
     "shell.execute_reply": "2021-12-11T11:56:34.691061Z"
    },
    "trusted": true
   },
   "execution_count": 10,
   "outputs": []
  },
  {
   "cell_type": "code",
   "source": "num=0\nfor count in ans['COUNT']:\n    if count <= 10:\n        num = num +1\nnum",
   "metadata": {
    "execution": {
     "iopub.status.busy": "2021-12-11T11:56:35.826723Z",
     "iopub.execute_input": "2021-12-11T11:56:35.827258Z",
     "iopub.status.idle": "2021-12-11T11:56:35.834678Z",
     "shell.execute_reply.started": "2021-12-11T11:56:35.827190Z",
     "shell.execute_reply": "2021-12-11T11:56:35.833686Z"
    },
    "trusted": true
   },
   "execution_count": 11,
   "outputs": []
  },
  {
   "cell_type": "markdown",
   "source": "在全部117个品牌中，其安装的数量多数（91个）是少于10个的，我们暂且决定不规范地把他们归为`Others` <br />\n即,下面我们将将`BRANDS <= 10` 归为 `Others`",
   "metadata": {}
  },
  {
   "cell_type": "code",
   "source": "ans[(ans[\"COUNT\"]>30)]",
   "metadata": {
    "execution": {
     "iopub.status.busy": "2021-12-11T12:18:40.751324Z",
     "iopub.execute_input": "2021-12-11T12:18:40.751977Z",
     "iopub.status.idle": "2021-12-11T12:18:40.765172Z",
     "shell.execute_reply.started": "2021-12-11T12:18:40.751928Z",
     "shell.execute_reply": "2021-12-11T12:18:40.764258Z"
    },
    "trusted": true
   },
   "execution_count": 25,
   "outputs": []
  },
  {
   "cell_type": "code",
   "source": "import matplotlib.pyplot as plt\n# plt.figure(dpi=200,figsize=(2,1))\nplt.plot(ans[\"BRANDS\"],ans[\"COUNT\"],color='r',marker='o',linestyle='dashed')\n\nplt.axis([0,10,10,3000])\nplt.annotate('Most Popular Phone \\n used to play the game',xy=(0,2600),xytext=(3,2500),\n             fontsize=16,\n             # arrowprops=dict(facecolor='black',shrink=0.1)\n             arrowprops=dict(arrowstyle='<-')\n            )\nplt.xticks(fontsize=8)\n# plt.legend()\nplt.savefig('line-chart')\nplt.show()",
   "metadata": {
    "execution": {
     "iopub.status.busy": "2021-12-11T12:41:15.456359Z",
     "iopub.execute_input": "2021-12-11T12:41:15.456663Z",
     "iopub.status.idle": "2021-12-11T12:41:15.959633Z",
     "shell.execute_reply.started": "2021-12-11T12:41:15.456633Z",
     "shell.execute_reply": "2021-12-11T12:41:15.958770Z"
    },
    "trusted": true
   },
   "execution_count": 37,
   "outputs": []
  },
  {
   "cell_type": "code",
   "source": "# assign the data\nsamsung = phone_brands.BRANDS.value_counts()['SAMSUNG']\noppo    = phone_brands.BRANDS.value_counts()['OPPO']\nhuawei  = phone_brands.BRANDS.value_counts()['HUAWEI']\nxiaomi  = phone_brands.BRANDS.value_counts()['XIAOMI']\nasus    = phone_brands.BRANDS.value_counts()['ASUS']\nhtc     = phone_brands.BRANDS.value_counts()['HTC']\nsony    = phone_brands.BRANDS.value_counts()['SONY']\nvivo    = phone_brands.BRANDS.value_counts()['VIVO']\nlge     = phone_brands.BRANDS.value_counts()['LGE']\n\nnames = ['SAMSUNG', 'OPPO', 'HUAWEI', 'XIAOMI', 'ASUS', 'HTC', 'SONY', 'VIVO', 'LGE']\nsize  = [samsung, oppo, huawei, xiaomi, asus, htc, sony, vivo, lge]\n\n#explode = (0.2, 0, 0)\n\n# create a pie chart\nplt.pie(x=size, \n        labels=names, \n        # colors=['red', 'darkorange', 'silver',], \n        colors=['#74d2e7','#48a9c5','#0085ad','#8db9ca','#4298b5', '#005670', '#00205b', '#008eaa'],\n        autopct='%1.2f%%', \n        pctdistance=0.6, \n        textprops=dict(fontweight='bold'),\n        wedgeprops={'linewidth':7, 'edgecolor':'white'})\n\n# create circle for the center of the plot to make the pie look like a donut\nmy_circle = plt.Circle((0,0), 0.6, color='white')\n\n# plot the donut chart\nfig = plt.gcf()\nfig.set_size_inches(8,8)\nfig.gca().add_artist(my_circle)\nplt.title('\\nTop 8 (COUNT >= 100) Phone Brands', fontsize=14, fontweight='bold')\nplt.savefig('Pie-chart')\nplt.show()\n# plt.savefig('Pie-chart')",
   "metadata": {
    "execution": {
     "iopub.status.busy": "2021-12-11T12:40:35.677191Z",
     "iopub.execute_input": "2021-12-11T12:40:35.677497Z",
     "iopub.status.idle": "2021-12-11T12:40:35.935054Z",
     "shell.execute_reply.started": "2021-12-11T12:40:35.677466Z",
     "shell.execute_reply": "2021-12-11T12:40:35.933979Z"
    },
    "trusted": true
   },
   "execution_count": 36,
   "outputs": []
  },
  {
   "cell_type": "markdown",
   "source": "**To Do List:**\n- [ ] **南丁格尔玫瑰图**\n- [x] **折线图**\n- [x] **饼状图**\n\nhttps://www.kaggle.com/alafun/for-the-homework-of-hyl\n",
   "metadata": {}
  },
  {
   "cell_type": "code",
   "source": "# plt.rcParams['font.sans-serif'] = ['SimHei']\nproduct_type=[\"SWE08UF\",\"SWE18UF\",\"SWE25F\",\"SWE40UF\",\"SWE60E\",\"SWE70E\",\"SWE80E9\",\"SWE100E\",\"SWE150E\",\"SWE155E\",\"SWE205E\",\"SWE215E\",\"SWE365E-3\",\"SWE385E\",\"SWE470E\",\"SWE500E\",\"SWE580E\",\"SWE900E\"]\nsales_num=[int(abs(i)*100) for i in np.random.randn(len(product_type))]\nsn=pd.DataFrame({\"产品类型\":product_type,\"销量\":sales_num}).sort_values(\"销量\",ascending=False)\nN=len(product_type)\ntheta=np.linspace(0+(100/180)*np.pi,2*np.pi+(100/180)*np.pi,N,endpoint=False)\nwidth=2*np.pi/N\ncolors=plt.cm.viridis([i for i in np.random.random(N)])\nplt.figure(figsize=(15,15))\nplt.subplot(111,projection=\"polar\")\nbars=plt.bar(theta,sn[\"销量\"],width=width,bottom=30,color=colors)\nfor r,s,t,bar in zip(theta,sn[\"销量\"],sn[\"产品类型\"],bars):\n    plt.text(r,s+45,t+\"\\n\"+str(s)+' ',ha=\"center\",va=\"baseline\",fontsize=14) \nplt.axis(\"off\")\n# plt.savefig(\".jpg\")",
   "metadata": {
    "execution": {
     "iopub.status.busy": "2021-12-11T12:37:54.758367Z",
     "iopub.execute_input": "2021-12-11T12:37:54.758658Z",
     "iopub.status.idle": "2021-12-11T12:37:56.083544Z",
     "shell.execute_reply.started": "2021-12-11T12:37:54.758629Z",
     "shell.execute_reply": "2021-12-11T12:37:56.082616Z"
    },
    "trusted": true
   },
   "execution_count": 35,
   "outputs": []
  }
 ]
}